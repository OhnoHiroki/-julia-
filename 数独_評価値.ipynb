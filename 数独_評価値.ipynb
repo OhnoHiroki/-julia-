{
 "cells": [
  {
   "cell_type": "markdown",
   "id": "26f05fee",
   "metadata": {},
   "source": [
    "# 初めに"
   ]
  },
  {
   "cell_type": "markdown",
   "id": "83a0d9b5",
   "metadata": {},
   "source": [
    "数独を焼きなましで解いてみよう！のこぼれ話です。数独の盤面を受け取り、スコアを返す関数をいくつか作成しました。スコアは同じ行・列・ボックスに同じ数字が複数含まれていると高くなり、焼きなましではそのスコアを低くすることにより最適解を探します。スコアを求める方法をいくつか作り、その時に得た高速化の知見をメモします。なお、スコアを求めるには盤面の更新によるスコアの差分を取るほうが速いため、以下の方法は実際にはあまり使いません。\n",
    "\n",
    "数独の盤面はMatrixで表現しました。スコアの計算方法は次の通りです。  \n",
    "$$ score = \\sum_{i=1}^{9} [(9 - 列iに含まれる数の種類) + (9 - 行iに含まれる数の種類) + (9 - ボックスiに含まれる数の種類)] $$"
   ]
  },
  {
   "cell_type": "markdown",
   "id": "48cc1bcf",
   "metadata": {},
   "source": [
    "# 準備"
   ]
  },
  {
   "cell_type": "code",
   "execution_count": 1,
   "id": "98cbfded",
   "metadata": {},
   "outputs": [],
   "source": [
    "using Random\n",
    "using BenchmarkTools"
   ]
  },
  {
   "cell_type": "code",
   "execution_count": 2,
   "id": "af8c10f3",
   "metadata": {},
   "outputs": [
    {
     "data": {
      "text/plain": [
       "9×9 Matrix{Int64}:\n",
       " 5  8  1  9  5  2  6  9  9\n",
       " 9  4  7  2  1  9  9  2  5\n",
       " 9  1  8  5  7  9  6  4  9\n",
       " 9  8  2  9  2  9  4  2  5\n",
       " 5  3  9  4  7  5  6  6  9\n",
       " 3  4  9  4  4  1  9  9  3\n",
       " 6  9  4  4  4  7  2  7  2\n",
       " 5  8  6  6  8  4  4  3  9\n",
       " 4  6  8  9  1  5  5  8  4"
      ]
     },
     "execution_count": 2,
     "metadata": {},
     "output_type": "execute_result"
    }
   ],
   "source": [
    "board = Random.rand(1:9, 9, 9)"
   ]
  },
  {
   "cell_type": "markdown",
   "id": "c9eab409",
   "metadata": {},
   "source": [
    "# 方法1:Set()を使う"
   ]
  },
  {
   "cell_type": "markdown",
   "id": "026adc7d",
   "metadata": {},
   "source": [
    "まずは定義どおりに実装します。同じ列・行・ボックスに含まれる数字の種類は`Set()`を使うことで数えました。後から分かったことですが、`Set()`の処理にかなり時間がかかります。"
   ]
  },
  {
   "cell_type": "code",
   "execution_count": 3,
   "id": "8a5453f6",
   "metadata": {},
   "outputs": [
    {
     "data": {
      "text/plain": [
       "evaluate1 (generic function with 1 method)"
      ]
     },
     "execution_count": 3,
     "metadata": {},
     "output_type": "execute_result"
    }
   ],
   "source": [
    "function evaluate1(board)\n",
    "    score = 0\n",
    "    for i in 1:9\n",
    "        score += (9 - length(Set(board[i,:]))) #行i\n",
    "        score += (9 - length(Set(board[:,i]))) #列i\n",
    "        score += (9 - length(Set(board[(i-1)%3 * 3 + 1 : (i-1)%3 * 3 + 3, div(i-1, 3) * 3 + 1 : div(i-1, 3) * 3 + 3])))\n",
    "    end\n",
    "    return score\n",
    "end"
   ]
  },
  {
   "cell_type": "code",
   "execution_count": 4,
   "id": "852e4d3c",
   "metadata": {},
   "outputs": [
    {
     "data": {
      "text/plain": [
       "87"
      ]
     },
     "execution_count": 4,
     "metadata": {},
     "output_type": "execute_result"
    }
   ],
   "source": [
    "evaluate1(board)"
   ]
  },
  {
   "cell_type": "code",
   "execution_count": 5,
   "id": "f7a1c14e",
   "metadata": {},
   "outputs": [
    {
     "data": {
      "text/plain": [
       "BenchmarkTools.Trial: 10000 samples with 6 evaluations.\n",
       " Range \u001b[90m(\u001b[39m\u001b[36m\u001b[1mmin\u001b[22m\u001b[39m … \u001b[35mmax\u001b[39m\u001b[90m):  \u001b[39m\u001b[36m\u001b[1m5.633 μs\u001b[22m\u001b[39m … \u001b[35m328.967 μs\u001b[39m  \u001b[90m┊\u001b[39m GC \u001b[90m(\u001b[39mmin … max\u001b[90m): \u001b[39m0.00% … 96.33%\n",
       " Time  \u001b[90m(\u001b[39m\u001b[34m\u001b[1mmedian\u001b[22m\u001b[39m\u001b[90m):     \u001b[39m\u001b[34m\u001b[1m5.800 μs               \u001b[22m\u001b[39m\u001b[90m┊\u001b[39m GC \u001b[90m(\u001b[39mmedian\u001b[90m):    \u001b[39m0.00%\n",
       " Time  \u001b[90m(\u001b[39m\u001b[32m\u001b[1mmean\u001b[22m\u001b[39m ± \u001b[32mσ\u001b[39m\u001b[90m):   \u001b[39m\u001b[32m\u001b[1m6.511 μs\u001b[22m\u001b[39m ± \u001b[32m 11.122 μs\u001b[39m  \u001b[90m┊\u001b[39m GC \u001b[90m(\u001b[39mmean ± σ\u001b[90m):  \u001b[39m7.14% ±  4.10%\n",
       "\n",
       "  \u001b[39m▅\u001b[39m█\u001b[34m▇\u001b[39m\u001b[39m▄\u001b[39m▄\u001b[39m▄\u001b[39m▃\u001b[39m▁\u001b[39m \u001b[39m \u001b[32m \u001b[39m\u001b[39m \u001b[39m \u001b[39m \u001b[39m \u001b[39m \u001b[39m \u001b[39m \u001b[39m \u001b[39m \u001b[39m \u001b[39m \u001b[39m \u001b[39m \u001b[39m▁\u001b[39m▁\u001b[39m▁\u001b[39m \u001b[39m \u001b[39m \u001b[39m \u001b[39m \u001b[39m \u001b[39m \u001b[39m \u001b[39m \u001b[39m \u001b[39m \u001b[39m \u001b[39m \u001b[39m \u001b[39m \u001b[39m \u001b[39m \u001b[39m \u001b[39m \u001b[39m \u001b[39m \u001b[39m \u001b[39m \u001b[39m \u001b[39m \u001b[39m \u001b[39m \u001b[39m \u001b[39m \u001b[39m \u001b[39m \u001b[39m \u001b[39m \u001b[39m▂\n",
       "  \u001b[39m█\u001b[39m█\u001b[34m█\u001b[39m\u001b[39m█\u001b[39m█\u001b[39m█\u001b[39m█\u001b[39m█\u001b[39m█\u001b[39m▇\u001b[32m▅\u001b[39m\u001b[39m▅\u001b[39m▅\u001b[39m▅\u001b[39m▁\u001b[39m▄\u001b[39m▃\u001b[39m▃\u001b[39m▃\u001b[39m▄\u001b[39m▄\u001b[39m▅\u001b[39m▆\u001b[39m█\u001b[39m█\u001b[39m█\u001b[39m█\u001b[39m█\u001b[39m█\u001b[39m▇\u001b[39m▇\u001b[39m▇\u001b[39m▇\u001b[39m▇\u001b[39m▆\u001b[39m▇\u001b[39m▆\u001b[39m▇\u001b[39m▇\u001b[39m▆\u001b[39m▆\u001b[39m▆\u001b[39m▅\u001b[39m▅\u001b[39m▅\u001b[39m▅\u001b[39m▅\u001b[39m▅\u001b[39m▅\u001b[39m▅\u001b[39m▁\u001b[39m▃\u001b[39m▄\u001b[39m▄\u001b[39m▃\u001b[39m▃\u001b[39m▅\u001b[39m▃\u001b[39m▄\u001b[39m \u001b[39m█\n",
       "  5.63 μs\u001b[90m      \u001b[39m\u001b[90mHistogram: \u001b[39m\u001b[90m\u001b[1mlog(\u001b[22m\u001b[39m\u001b[90mfrequency\u001b[39m\u001b[90m\u001b[1m)\u001b[22m\u001b[39m\u001b[90m by time\u001b[39m      10.6 μs \u001b[0m\u001b[1m<\u001b[22m\n",
       "\n",
       " Memory estimate\u001b[90m: \u001b[39m\u001b[33m13.92 KiB\u001b[39m, allocs estimate\u001b[90m: \u001b[39m\u001b[33m135\u001b[39m."
      ]
     },
     "execution_count": 5,
     "metadata": {},
     "output_type": "execute_result"
    }
   ],
   "source": [
    "@benchmark evaluate1(board)"
   ]
  },
  {
   "cell_type": "code",
   "execution_count": 6,
   "id": "39255e8d",
   "metadata": {},
   "outputs": [
    {
     "name": "stdout",
     "output_type": "stream",
     "text": [
      "87"
     ]
    }
   ],
   "source": [
    "print(evaluate1(board))"
   ]
  },
  {
   "cell_type": "markdown",
   "id": "c9eafa07",
   "metadata": {},
   "source": [
    "# 方法2:登場した数字の種類を配列で管理する"
   ]
  },
  {
   "cell_type": "markdown",
   "id": "3e6fc1c1",
   "metadata": {},
   "source": [
    "次に配列を使って登場した数字の種類を数えます。`nums`は要素数9の配列で、初期値はすべて0です。7が登場したら、`nums[7] = 1`とすることにより、登場した数字がどれなのか管理します。配列の要素の型をInt64からInt8にすると9%ほど高速になりました。Bool型を使うともっと速くなるのかな？"
   ]
  },
  {
   "cell_type": "code",
   "execution_count": 7,
   "id": "df129bb6",
   "metadata": {},
   "outputs": [
    {
     "data": {
      "text/plain": [
       "evaluate2 (generic function with 1 method)"
      ]
     },
     "execution_count": 7,
     "metadata": {},
     "output_type": "execute_result"
    }
   ],
   "source": [
    "function evaluate2(board)\n",
    "    score = 0\n",
    "    for i in 1:9\n",
    "        tmp_h = zeros(Int8, 9)\n",
    "        tmp_v = zeros(Int8, 9)\n",
    "        tmp_box = zeros(Int8, 9)\n",
    "        for j in 1:9\n",
    "            tmp_h[board[i,j]] = 1\n",
    "            tmp_v[board[j,i]] = 1\n",
    "            tmp_box[board[((i-1)%3)*3 + (j-1)%3 + 1, div(i-1, 3)*3 + div(j-1, 3) + 1]] = 1\n",
    "        end\n",
    "        score += (27 - sum(tmp_h) - sum(tmp_v) - sum(tmp_box))\n",
    "    end\n",
    "    return score\n",
    "end"
   ]
  },
  {
   "cell_type": "code",
   "execution_count": 8,
   "id": "9aa6b3b9",
   "metadata": {},
   "outputs": [
    {
     "data": {
      "text/plain": [
       "87"
      ]
     },
     "execution_count": 8,
     "metadata": {},
     "output_type": "execute_result"
    }
   ],
   "source": [
    "evaluate2(board)"
   ]
  },
  {
   "cell_type": "code",
   "execution_count": 9,
   "id": "83ed3092",
   "metadata": {},
   "outputs": [
    {
     "data": {
      "text/plain": [
       "BenchmarkTools.Trial: 10000 samples with 10 evaluations.\n",
       " Range \u001b[90m(\u001b[39m\u001b[36m\u001b[1mmin\u001b[22m\u001b[39m … \u001b[35mmax\u001b[39m\u001b[90m):  \u001b[39m\u001b[36m\u001b[1m1.090 μs\u001b[22m\u001b[39m … \u001b[35m158.390 μs\u001b[39m  \u001b[90m┊\u001b[39m GC \u001b[90m(\u001b[39mmin … max\u001b[90m): \u001b[39m0.00% … 98.52%\n",
       " Time  \u001b[90m(\u001b[39m\u001b[34m\u001b[1mmedian\u001b[22m\u001b[39m\u001b[90m):     \u001b[39m\u001b[34m\u001b[1m1.120 μs               \u001b[22m\u001b[39m\u001b[90m┊\u001b[39m GC \u001b[90m(\u001b[39mmedian\u001b[90m):    \u001b[39m0.00%\n",
       " Time  \u001b[90m(\u001b[39m\u001b[32m\u001b[1mmean\u001b[22m\u001b[39m ± \u001b[32mσ\u001b[39m\u001b[90m):   \u001b[39m\u001b[32m\u001b[1m1.264 μs\u001b[22m\u001b[39m ± \u001b[32m  2.700 μs\u001b[39m  \u001b[90m┊\u001b[39m GC \u001b[90m(\u001b[39mmean ± σ\u001b[90m):  \u001b[39m3.65% ±  1.70%\n",
       "\n",
       "  \u001b[39m▄\u001b[39m█\u001b[34m▆\u001b[39m\u001b[39m▄\u001b[39m▃\u001b[39m▁\u001b[39m \u001b[39m \u001b[39m \u001b[39m \u001b[32m▂\u001b[39m\u001b[39m▁\u001b[39m \u001b[39m \u001b[39m \u001b[39m \u001b[39m \u001b[39m \u001b[39m \u001b[39m \u001b[39m \u001b[39m \u001b[39m \u001b[39m▄\u001b[39m▄\u001b[39m▄\u001b[39m▁\u001b[39m \u001b[39m▂\u001b[39m▂\u001b[39m \u001b[39m \u001b[39m \u001b[39m \u001b[39m \u001b[39m \u001b[39m \u001b[39m \u001b[39m \u001b[39m \u001b[39m \u001b[39m \u001b[39m \u001b[39m \u001b[39m \u001b[39m \u001b[39m \u001b[39m \u001b[39m \u001b[39m \u001b[39m \u001b[39m \u001b[39m \u001b[39m \u001b[39m \u001b[39m \u001b[39m \u001b[39m \u001b[39m \u001b[39m \u001b[39m▂\n",
       "  \u001b[39m█\u001b[39m█\u001b[34m█\u001b[39m\u001b[39m█\u001b[39m█\u001b[39m█\u001b[39m▆\u001b[39m▆\u001b[39m▅\u001b[39m▆\u001b[32m█\u001b[39m\u001b[39m█\u001b[39m█\u001b[39m█\u001b[39m▇\u001b[39m▄\u001b[39m▅\u001b[39m▃\u001b[39m▁\u001b[39m▃\u001b[39m▁\u001b[39m▃\u001b[39m▇\u001b[39m█\u001b[39m█\u001b[39m█\u001b[39m█\u001b[39m█\u001b[39m█\u001b[39m█\u001b[39m█\u001b[39m▆\u001b[39m▆\u001b[39m█\u001b[39m█\u001b[39m█\u001b[39m▇\u001b[39m▅\u001b[39m▆\u001b[39m▅\u001b[39m▅\u001b[39m▅\u001b[39m▄\u001b[39m▁\u001b[39m▄\u001b[39m▅\u001b[39m▃\u001b[39m▄\u001b[39m▁\u001b[39m▄\u001b[39m▄\u001b[39m▄\u001b[39m▃\u001b[39m▄\u001b[39m▁\u001b[39m▃\u001b[39m▄\u001b[39m▆\u001b[39m▆\u001b[39m \u001b[39m█\n",
       "  1.09 μs\u001b[90m      \u001b[39m\u001b[90mHistogram: \u001b[39m\u001b[90m\u001b[1mlog(\u001b[22m\u001b[39m\u001b[90mfrequency\u001b[39m\u001b[90m\u001b[1m)\u001b[22m\u001b[39m\u001b[90m by time\u001b[39m      2.08 μs \u001b[0m\u001b[1m<\u001b[22m\n",
       "\n",
       " Memory estimate\u001b[90m: \u001b[39m\u001b[33m1.69 KiB\u001b[39m, allocs estimate\u001b[90m: \u001b[39m\u001b[33m27\u001b[39m."
      ]
     },
     "execution_count": 9,
     "metadata": {},
     "output_type": "execute_result"
    }
   ],
   "source": [
    "@benchmark evaluate2(board)"
   ]
  },
  {
   "cell_type": "markdown",
   "id": "3663ccf0",
   "metadata": {},
   "source": [
    "# 方法3:方法2の改良版。配列の生成回数を減らす"
   ]
  },
  {
   "cell_type": "markdown",
   "id": "c47c88ac",
   "metadata": {},
   "source": [
    "方法2の改良版です。イメージとしては方法2で9回生成していた配列を1つに繋げたというものです。結構高速になりますね。可読性が怪しくなるのが欠点か。"
   ]
  },
  {
   "cell_type": "code",
   "execution_count": 10,
   "id": "8c960a2f",
   "metadata": {},
   "outputs": [
    {
     "data": {
      "text/plain": [
       "evaluate3 (generic function with 1 method)"
      ]
     },
     "execution_count": 10,
     "metadata": {},
     "output_type": "execute_result"
    }
   ],
   "source": [
    "function evaluate3(board)\n",
    "    tmp_h = zeros(Int8, 9*9)\n",
    "    tmp_v = zeros(Int8, 9*9)\n",
    "    tmp_box = zeros(Int8, 9*9)\n",
    "    for i in 1:9\n",
    "        for j in 1:9\n",
    "            tmp_h[board[i,j] + (i-1)*9] = 1\n",
    "            tmp_v[board[j,i] + (i-1)*9] = 1\n",
    "            tmp_box[board[((i-1)%3)*3 + (j-1)%3 + 1, div(i-1, 3)*3 + div(j-1, 3) + 1] + (i-1)*9] = 1\n",
    "        end\n",
    "    end\n",
    "    return (9*9*3 - sum(tmp_h) - sum(tmp_v) - sum(tmp_box))\n",
    "end"
   ]
  },
  {
   "cell_type": "code",
   "execution_count": 11,
   "id": "b621f201",
   "metadata": {},
   "outputs": [
    {
     "data": {
      "text/plain": [
       "87"
      ]
     },
     "execution_count": 11,
     "metadata": {},
     "output_type": "execute_result"
    }
   ],
   "source": [
    "evaluate3(board)"
   ]
  },
  {
   "cell_type": "code",
   "execution_count": 12,
   "id": "3d10c2b2",
   "metadata": {},
   "outputs": [
    {
     "data": {
      "text/plain": [
       "BenchmarkTools.Trial: 10000 samples with 196 evaluations.\n",
       " Range \u001b[90m(\u001b[39m\u001b[36m\u001b[1mmin\u001b[22m\u001b[39m … \u001b[35mmax\u001b[39m\u001b[90m):  \u001b[39m\u001b[36m\u001b[1m467.857 ns\u001b[22m\u001b[39m … \u001b[35m 3.778 μs\u001b[39m  \u001b[90m┊\u001b[39m GC \u001b[90m(\u001b[39mmin … max\u001b[90m): \u001b[39m0.00% … 76.64%\n",
       " Time  \u001b[90m(\u001b[39m\u001b[34m\u001b[1mmedian\u001b[22m\u001b[39m\u001b[90m):     \u001b[39m\u001b[34m\u001b[1m476.020 ns              \u001b[22m\u001b[39m\u001b[90m┊\u001b[39m GC \u001b[90m(\u001b[39mmedian\u001b[90m):    \u001b[39m0.00%\n",
       " Time  \u001b[90m(\u001b[39m\u001b[32m\u001b[1mmean\u001b[22m\u001b[39m ± \u001b[32mσ\u001b[39m\u001b[90m):   \u001b[39m\u001b[32m\u001b[1m491.158 ns\u001b[22m\u001b[39m ± \u001b[32m95.457 ns\u001b[39m  \u001b[90m┊\u001b[39m GC \u001b[90m(\u001b[39mmean ± σ\u001b[90m):  \u001b[39m0.69% ±  3.25%\n",
       "\n",
       "  \u001b[39m▆\u001b[39m█\u001b[34m▇\u001b[39m\u001b[39m▆\u001b[39m▂\u001b[32m \u001b[39m\u001b[39m \u001b[39m \u001b[39m \u001b[39m \u001b[39m \u001b[39m \u001b[39m \u001b[39m \u001b[39m \u001b[39m \u001b[39m \u001b[39m \u001b[39m \u001b[39m \u001b[39m \u001b[39m \u001b[39m▂\u001b[39m▂\u001b[39m▁\u001b[39m▁\u001b[39m▁\u001b[39m \u001b[39m \u001b[39m \u001b[39m \u001b[39m \u001b[39m \u001b[39m \u001b[39m \u001b[39m \u001b[39m \u001b[39m \u001b[39m \u001b[39m \u001b[39m \u001b[39m \u001b[39m \u001b[39m \u001b[39m \u001b[39m \u001b[39m \u001b[39m \u001b[39m \u001b[39m \u001b[39m \u001b[39m \u001b[39m \u001b[39m \u001b[39m \u001b[39m \u001b[39m \u001b[39m \u001b[39m \u001b[39m \u001b[39m \u001b[39m▂\n",
       "  \u001b[39m█\u001b[39m█\u001b[34m█\u001b[39m\u001b[39m█\u001b[39m█\u001b[32m▇\u001b[39m\u001b[39m▇\u001b[39m▄\u001b[39m▄\u001b[39m▄\u001b[39m▅\u001b[39m▄\u001b[39m▆\u001b[39m▅\u001b[39m▁\u001b[39m▃\u001b[39m▄\u001b[39m▄\u001b[39m▆\u001b[39m▄\u001b[39m▆\u001b[39m█\u001b[39m█\u001b[39m█\u001b[39m█\u001b[39m█\u001b[39m█\u001b[39m▇\u001b[39m▇\u001b[39m▇\u001b[39m▆\u001b[39m▆\u001b[39m▅\u001b[39m▄\u001b[39m▄\u001b[39m▅\u001b[39m▄\u001b[39m▅\u001b[39m▁\u001b[39m▅\u001b[39m▅\u001b[39m▆\u001b[39m▇\u001b[39m▆\u001b[39m▆\u001b[39m▆\u001b[39m▆\u001b[39m▅\u001b[39m▅\u001b[39m▆\u001b[39m▄\u001b[39m▆\u001b[39m▆\u001b[39m▄\u001b[39m▅\u001b[39m▅\u001b[39m▄\u001b[39m▄\u001b[39m▅\u001b[39m▅\u001b[39m \u001b[39m█\n",
       "  468 ns\u001b[90m        \u001b[39m\u001b[90mHistogram: \u001b[39m\u001b[90m\u001b[1mlog(\u001b[22m\u001b[39m\u001b[90mfrequency\u001b[39m\u001b[90m\u001b[1m)\u001b[22m\u001b[39m\u001b[90m by time\u001b[39m       734 ns \u001b[0m\u001b[1m<\u001b[22m\n",
       "\n",
       " Memory estimate\u001b[90m: \u001b[39m\u001b[33m432 bytes\u001b[39m, allocs estimate\u001b[90m: \u001b[39m\u001b[33m3\u001b[39m."
      ]
     },
     "execution_count": 12,
     "metadata": {},
     "output_type": "execute_result"
    }
   ],
   "source": [
    "@benchmark evaluate3(board)"
   ]
  },
  {
   "cell_type": "markdown",
   "id": "112fd88c",
   "metadata": {},
   "source": [
    "# 方法4:方法3からさらに配列をまとめる"
   ]
  },
  {
   "cell_type": "markdown",
   "id": "6d0194ef",
   "metadata": {},
   "source": [
    "方法3では3つの配列を使っていましたが、それらを1つに繋げました。ここまでくると可読性は壊滅的ですね。"
   ]
  },
  {
   "cell_type": "code",
   "execution_count": 13,
   "id": "8cfeb0d8",
   "metadata": {},
   "outputs": [
    {
     "data": {
      "text/plain": [
       "evaluate4 (generic function with 1 method)"
      ]
     },
     "execution_count": 13,
     "metadata": {},
     "output_type": "execute_result"
    }
   ],
   "source": [
    "function evaluate4(board)\n",
    "    tmp = zeros(Int8, 81*3)\n",
    "    for i in 1:9\n",
    "        for j in 1:9\n",
    "            tmp[board[i,j] + (i-1)*9] = 1\n",
    "            tmp[board[j,i] + (i-1)*9 + 81] = 1\n",
    "            tmp[board[((i-1)%3)*3 + (j-1)%3 + 1, div(i-1, 3)*3 + div(j-1, 3) + 1] + (i-1)*9 + 81*2] = 1\n",
    "        end\n",
    "    end\n",
    "    return (9*9*3 - sum(tmp))\n",
    "end"
   ]
  },
  {
   "cell_type": "code",
   "execution_count": 14,
   "id": "f67c992e",
   "metadata": {},
   "outputs": [
    {
     "data": {
      "text/plain": [
       "87"
      ]
     },
     "execution_count": 14,
     "metadata": {},
     "output_type": "execute_result"
    }
   ],
   "source": [
    "evaluate4(board)"
   ]
  },
  {
   "cell_type": "code",
   "execution_count": 15,
   "id": "6cb3df46",
   "metadata": {},
   "outputs": [
    {
     "data": {
      "text/plain": [
       "BenchmarkTools.Trial: 10000 samples with 210 evaluations.\n",
       " Range \u001b[90m(\u001b[39m\u001b[36m\u001b[1mmin\u001b[22m\u001b[39m … \u001b[35mmax\u001b[39m\u001b[90m):  \u001b[39m\u001b[36m\u001b[1m362.381 ns\u001b[22m\u001b[39m … \u001b[35m 3.195 μs\u001b[39m  \u001b[90m┊\u001b[39m GC \u001b[90m(\u001b[39mmin … max\u001b[90m): \u001b[39m0.00% … 82.59%\n",
       " Time  \u001b[90m(\u001b[39m\u001b[34m\u001b[1mmedian\u001b[22m\u001b[39m\u001b[90m):     \u001b[39m\u001b[34m\u001b[1m377.619 ns              \u001b[22m\u001b[39m\u001b[90m┊\u001b[39m GC \u001b[90m(\u001b[39mmedian\u001b[90m):    \u001b[39m0.00%\n",
       " Time  \u001b[90m(\u001b[39m\u001b[32m\u001b[1mmean\u001b[22m\u001b[39m ± \u001b[32mσ\u001b[39m\u001b[90m):   \u001b[39m\u001b[32m\u001b[1m392.406 ns\u001b[22m\u001b[39m ± \u001b[32m90.475 ns\u001b[39m  \u001b[90m┊\u001b[39m GC \u001b[90m(\u001b[39mmean ± σ\u001b[90m):  \u001b[39m0.71% ±  3.01%\n",
       "\n",
       "  \u001b[39m▄\u001b[39m▇\u001b[39m▆\u001b[34m█\u001b[39m\u001b[39m▆\u001b[39m▅\u001b[32m▂\u001b[39m\u001b[39m▁\u001b[39m \u001b[39m \u001b[39m \u001b[39m \u001b[39m \u001b[39m \u001b[39m▁\u001b[39m▄\u001b[39m▃\u001b[39m▂\u001b[39m▂\u001b[39m \u001b[39m \u001b[39m \u001b[39m \u001b[39m \u001b[39m \u001b[39m \u001b[39m \u001b[39m \u001b[39m \u001b[39m \u001b[39m \u001b[39m \u001b[39m \u001b[39m \u001b[39m \u001b[39m \u001b[39m \u001b[39m \u001b[39m \u001b[39m \u001b[39m \u001b[39m \u001b[39m \u001b[39m \u001b[39m \u001b[39m \u001b[39m \u001b[39m \u001b[39m \u001b[39m \u001b[39m \u001b[39m \u001b[39m \u001b[39m \u001b[39m \u001b[39m \u001b[39m \u001b[39m \u001b[39m \u001b[39m \u001b[39m \u001b[39m▂\n",
       "  \u001b[39m█\u001b[39m█\u001b[39m█\u001b[34m█\u001b[39m\u001b[39m█\u001b[39m█\u001b[32m█\u001b[39m\u001b[39m█\u001b[39m█\u001b[39m▇\u001b[39m▇\u001b[39m▇\u001b[39m▇\u001b[39m█\u001b[39m█\u001b[39m█\u001b[39m█\u001b[39m█\u001b[39m█\u001b[39m█\u001b[39m█\u001b[39m▇\u001b[39m▇\u001b[39m▇\u001b[39m▆\u001b[39m▇\u001b[39m▇\u001b[39m▆\u001b[39m▆\u001b[39m▆\u001b[39m▅\u001b[39m▅\u001b[39m▆\u001b[39m▆\u001b[39m▆\u001b[39m▇\u001b[39m▇\u001b[39m▇\u001b[39m▇\u001b[39m▅\u001b[39m▇\u001b[39m▆\u001b[39m▅\u001b[39m▆\u001b[39m▆\u001b[39m▅\u001b[39m▄\u001b[39m▅\u001b[39m▄\u001b[39m▁\u001b[39m▅\u001b[39m▄\u001b[39m▅\u001b[39m▄\u001b[39m▁\u001b[39m▄\u001b[39m▄\u001b[39m▃\u001b[39m▅\u001b[39m▅\u001b[39m \u001b[39m█\n",
       "  362 ns\u001b[90m        \u001b[39m\u001b[90mHistogram: \u001b[39m\u001b[90m\u001b[1mlog(\u001b[22m\u001b[39m\u001b[90mfrequency\u001b[39m\u001b[90m\u001b[1m)\u001b[22m\u001b[39m\u001b[90m by time\u001b[39m       644 ns \u001b[0m\u001b[1m<\u001b[22m\n",
       "\n",
       " Memory estimate\u001b[90m: \u001b[39m\u001b[33m304 bytes\u001b[39m, allocs estimate\u001b[90m: \u001b[39m\u001b[33m1\u001b[39m."
      ]
     },
     "execution_count": 15,
     "metadata": {},
     "output_type": "execute_result"
    }
   ],
   "source": [
    "@benchmark evaluate4(board)"
   ]
  },
  {
   "cell_type": "markdown",
   "id": "bfa0239f",
   "metadata": {},
   "source": [
    "# まとめ"
   ]
  },
  {
   "cell_type": "markdown",
   "id": "7b746d16",
   "metadata": {},
   "source": [
    "今回の実験で分かったこと\n",
    "1. `Set()`は時間がかかり、今回のように限られた範囲の値を扱うなら配列のほうが便利かも\n",
    "2. 0 or 1　のように取りうる値の範囲が限られている場合、Int64よりInt8などを使う方が速い\n",
    "3. 配列の生成回数は少なくしよう。（`sum()`に時間がかかっているだけかも？）　　\n",
    "\n",
    "\n",
    "|方法 |ベンチマーク結果|備考|\n",
    "|:---:|:------------:  |:---|\n",
    "|方法1|6.511 μs ±  11.122 μs|Set()を使う|\n",
    "|方法2|1.264 μs ±   2.700 μs|登場した数字の種類を配列で管理する|\n",
    "|方法3|491.158 ns ± 95.457 ns|方法2の改良版。配列の生成回数を減らす|\n",
    "|方法4|392.406 ns ± 90.475 n|方法3からさらに配列をまとめる|"
   ]
  }
 ],
 "metadata": {
  "kernelspec": {
   "display_name": "Julia 1.9.2",
   "language": "julia",
   "name": "julia-1.9"
  },
  "language_info": {
   "file_extension": ".jl",
   "mimetype": "application/julia",
   "name": "julia",
   "version": "1.9.2"
  }
 },
 "nbformat": 4,
 "nbformat_minor": 5
}
