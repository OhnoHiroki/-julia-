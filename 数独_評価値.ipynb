{
 "cells": [
  {
   "cell_type": "markdown",
   "id": "6d21620f",
   "metadata": {},
   "source": [
    "# 初めに"
   ]
  },
  {
   "cell_type": "markdown",
   "id": "4bacbbed",
   "metadata": {},
   "source": [
    "数独を焼きなましで解いてみよう！のこぼれ話です。数独の盤面を受け取り、スコアを返す関数をいくつか作成しました。スコアは同じ行・列・ボックスに同じ数字が複数含まれていると高くなり、焼きなましではそのスコアを低くすることにより最適解を探します。スコアを求める方法をいくつか作り、その時に得た高速化の知見をメモします。なお、スコアを求めるには盤面の更新によるスコアの差分を取るほうが速いため、以下の方法は実際にはあまり使いません。\n",
    "\n",
    "数独の盤面はMatrixで表現しました。スコアの計算方法は次の通りです。  \n",
    "$$ score = \\sum_{i=1}^{9} [(9 - 列iに含まれる数の種類) + (9 - 行iに含まれる数の種類) + (9 - ボックスiに含まれる数の種類)] $$"
   ]
  },
  {
   "cell_type": "markdown",
   "id": "c1f03dee",
   "metadata": {},
   "source": [
    "# 準備"
   ]
  },
  {
   "cell_type": "code",
   "execution_count": 1,
   "id": "d1099904",
   "metadata": {},
   "outputs": [],
   "source": [
    "using Random\n",
    "using BenchmarkTools"
   ]
  },
  {
   "cell_type": "code",
   "execution_count": 2,
   "id": "f5e21701",
   "metadata": {},
   "outputs": [
    {
     "data": {
      "text/plain": [
       "9×9 Matrix{Int64}:\n",
       " 3  7  7  2  5  3  1  9  4\n",
       " 1  2  2  9  7  1  9  4  8\n",
       " 1  7  4  4  5  3  9  1  3\n",
       " 4  1  1  6  1  2  7  7  5\n",
       " 3  6  2  8  9  7  6  4  3\n",
       " 7  2  4  7  9  3  7  8  2\n",
       " 2  8  6  8  6  7  9  8  4\n",
       " 2  4  9  9  6  6  2  8  5\n",
       " 8  9  4  3  8  2  9  2  7"
      ]
     },
     "execution_count": 2,
     "metadata": {},
     "output_type": "execute_result"
    }
   ],
   "source": [
    "board = Random.rand(1:9, 9, 9)"
   ]
  },
  {
   "cell_type": "markdown",
   "id": "dfcae75b",
   "metadata": {},
   "source": [
    "# 方法1:Set()を使う"
   ]
  },
  {
   "cell_type": "markdown",
   "id": "e6981358",
   "metadata": {},
   "source": [
    "まずは定義どおりに実装します。同じ列・行・ボックスに含まれる数字の種類は`Set()`を使うことで数えました。後から分かったことですが、`Set()`の処理にかなり時間がかかります。"
   ]
  },
  {
   "cell_type": "code",
   "execution_count": 3,
   "id": "4432c2ed",
   "metadata": {},
   "outputs": [
    {
     "data": {
      "text/plain": [
       "evaluate1 (generic function with 1 method)"
      ]
     },
     "execution_count": 3,
     "metadata": {},
     "output_type": "execute_result"
    }
   ],
   "source": [
    "function evaluate1(board)\n",
    "    score = 0\n",
    "    for i in 1:9\n",
    "        score += (9 - length(Set(board[i,:]))) #行i\n",
    "        score += (9 - length(Set(board[:,i]))) #列i\n",
    "        score += (9 - length(Set(board[(i-1)%3 * 3 + 1 : (i-1)%3 * 3 + 3, div(i-1, 3) * 3 + 1 : div(i-1, 3) * 3 + 3])))\n",
    "    end\n",
    "    return score\n",
    "end"
   ]
  },
  {
   "cell_type": "code",
   "execution_count": 4,
   "id": "005bf26b",
   "metadata": {},
   "outputs": [
    {
     "data": {
      "text/plain": [
       "79"
      ]
     },
     "execution_count": 4,
     "metadata": {},
     "output_type": "execute_result"
    }
   ],
   "source": [
    "evaluate1(board)"
   ]
  },
  {
   "cell_type": "code",
   "execution_count": 5,
   "id": "066a54d7",
   "metadata": {},
   "outputs": [
    {
     "data": {
      "text/plain": [
       "BenchmarkTools.Trial: 10000 samples with 6 evaluations.\n",
       " Range \u001b[90m(\u001b[39m\u001b[36m\u001b[1mmin\u001b[22m\u001b[39m … \u001b[35mmax\u001b[39m\u001b[90m):  \u001b[39m\u001b[36m\u001b[1m5.800 μs\u001b[22m\u001b[39m … \u001b[35m298.550 μs\u001b[39m  \u001b[90m┊\u001b[39m GC \u001b[90m(\u001b[39mmin … max\u001b[90m): \u001b[39m0.00% … 97.16%\n",
       " Time  \u001b[90m(\u001b[39m\u001b[34m\u001b[1mmedian\u001b[22m\u001b[39m\u001b[90m):     \u001b[39m\u001b[34m\u001b[1m5.983 μs               \u001b[22m\u001b[39m\u001b[90m┊\u001b[39m GC \u001b[90m(\u001b[39mmedian\u001b[90m):    \u001b[39m0.00%\n",
       " Time  \u001b[90m(\u001b[39m\u001b[32m\u001b[1mmean\u001b[22m\u001b[39m ± \u001b[32mσ\u001b[39m\u001b[90m):   \u001b[39m\u001b[32m\u001b[1m6.633 μs\u001b[22m\u001b[39m ± \u001b[32m 11.618 μs\u001b[39m  \u001b[90m┊\u001b[39m GC \u001b[90m(\u001b[39mmean ± σ\u001b[90m):  \u001b[39m7.34% ±  4.10%\n",
       "\n",
       "  \u001b[39m▃\u001b[39m▇\u001b[39m█\u001b[34m█\u001b[39m\u001b[39m▇\u001b[39m▄\u001b[39m▄\u001b[39m▄\u001b[39m▅\u001b[39m▃\u001b[39m▂\u001b[39m▁\u001b[39m \u001b[39m \u001b[39m \u001b[32m \u001b[39m\u001b[39m \u001b[39m \u001b[39m \u001b[39m \u001b[39m \u001b[39m \u001b[39m \u001b[39m \u001b[39m \u001b[39m \u001b[39m \u001b[39m \u001b[39m \u001b[39m \u001b[39m \u001b[39m \u001b[39m \u001b[39m \u001b[39m \u001b[39m \u001b[39m \u001b[39m \u001b[39m \u001b[39m▁\u001b[39m \u001b[39m \u001b[39m \u001b[39m \u001b[39m \u001b[39m \u001b[39m \u001b[39m \u001b[39m \u001b[39m \u001b[39m \u001b[39m \u001b[39m \u001b[39m \u001b[39m \u001b[39m \u001b[39m \u001b[39m \u001b[39m \u001b[39m \u001b[39m▂\n",
       "  \u001b[39m█\u001b[39m█\u001b[39m█\u001b[34m█\u001b[39m\u001b[39m█\u001b[39m█\u001b[39m█\u001b[39m█\u001b[39m█\u001b[39m█\u001b[39m█\u001b[39m█\u001b[39m█\u001b[39m▇\u001b[39m▅\u001b[32m▆\u001b[39m\u001b[39m▇\u001b[39m▅\u001b[39m▇\u001b[39m▅\u001b[39m▄\u001b[39m▃\u001b[39m▃\u001b[39m▄\u001b[39m▁\u001b[39m▄\u001b[39m▁\u001b[39m▅\u001b[39m▁\u001b[39m▄\u001b[39m▃\u001b[39m▃\u001b[39m▁\u001b[39m▅\u001b[39m▄\u001b[39m▆\u001b[39m▇\u001b[39m█\u001b[39m█\u001b[39m█\u001b[39m█\u001b[39m█\u001b[39m█\u001b[39m█\u001b[39m▇\u001b[39m▇\u001b[39m█\u001b[39m▇\u001b[39m▇\u001b[39m▆\u001b[39m▆\u001b[39m▇\u001b[39m▅\u001b[39m▇\u001b[39m▇\u001b[39m▆\u001b[39m▆\u001b[39m▆\u001b[39m▇\u001b[39m \u001b[39m█\n",
       "  5.8 μs\u001b[90m       \u001b[39m\u001b[90mHistogram: \u001b[39m\u001b[90m\u001b[1mlog(\u001b[22m\u001b[39m\u001b[90mfrequency\u001b[39m\u001b[90m\u001b[1m)\u001b[22m\u001b[39m\u001b[90m by time\u001b[39m      8.98 μs \u001b[0m\u001b[1m<\u001b[22m\n",
       "\n",
       " Memory estimate\u001b[90m: \u001b[39m\u001b[33m13.92 KiB\u001b[39m, allocs estimate\u001b[90m: \u001b[39m\u001b[33m135\u001b[39m."
      ]
     },
     "execution_count": 5,
     "metadata": {},
     "output_type": "execute_result"
    }
   ],
   "source": [
    "@benchmark evaluate1(board)"
   ]
  },
  {
   "cell_type": "code",
   "execution_count": 6,
   "id": "6a0893fe",
   "metadata": {},
   "outputs": [
    {
     "name": "stdout",
     "output_type": "stream",
     "text": [
      "79"
     ]
    }
   ],
   "source": [
    "print(evaluate1(board))"
   ]
  },
  {
   "cell_type": "markdown",
   "id": "cc94f6d5",
   "metadata": {},
   "source": [
    "# 方法2:登場した数字の種類を配列で管理する"
   ]
  },
  {
   "cell_type": "markdown",
   "id": "91d82b8b",
   "metadata": {},
   "source": [
    "次に配列を使って登場した数字の種類を数えます。`nums`は要素数9の配列で、初期値はすべて0です。7が登場したら、`nums[7] = 1`とすることにより、登場した数字がどれなのか管理します。配列の要素の型をInt64からInt8にすると9%ほど高速になりました。Bool型を使うともっと速くなるのかな？"
   ]
  },
  {
   "cell_type": "code",
   "execution_count": 7,
   "id": "fe806240",
   "metadata": {},
   "outputs": [
    {
     "data": {
      "text/plain": [
       "evaluate2 (generic function with 1 method)"
      ]
     },
     "execution_count": 7,
     "metadata": {},
     "output_type": "execute_result"
    }
   ],
   "source": [
    "function evaluate2(board)\n",
    "    score = 0\n",
    "    for i in 1:9\n",
    "        tmp_h = zeros(Int64, 9)\n",
    "        tmp_v = zeros(Int64, 9)\n",
    "        tmp_box = zeros(Int64, 9)\n",
    "        for j in 1:9\n",
    "            tmp_h[board[i,j]] = 1\n",
    "            tmp_v[board[j,i]] = 1\n",
    "            tmp_box[board[((i-1)%3)*3 + (j-1)%3 + 1, div(i-1, 3)*3 + div(j-1, 3) + 1]] = 1\n",
    "        end\n",
    "        score += (27 - sum(tmp_h) - sum(tmp_v) - sum(tmp_box))\n",
    "    end\n",
    "    return score\n",
    "end"
   ]
  },
  {
   "cell_type": "code",
   "execution_count": 8,
   "id": "53f3581c",
   "metadata": {},
   "outputs": [
    {
     "data": {
      "text/plain": [
       "79"
      ]
     },
     "execution_count": 8,
     "metadata": {},
     "output_type": "execute_result"
    }
   ],
   "source": [
    "evaluate2(board)"
   ]
  },
  {
   "cell_type": "code",
   "execution_count": 9,
   "id": "5018e156",
   "metadata": {},
   "outputs": [
    {
     "data": {
      "text/plain": [
       "BenchmarkTools.Trial: 10000 samples with 10 evaluations.\n",
       " Range \u001b[90m(\u001b[39m\u001b[36m\u001b[1mmin\u001b[22m\u001b[39m … \u001b[35mmax\u001b[39m\u001b[90m):  \u001b[39m\u001b[36m\u001b[1m1.220 μs\u001b[22m\u001b[39m … \u001b[35m43.230 μs\u001b[39m  \u001b[90m┊\u001b[39m GC \u001b[90m(\u001b[39mmin … max\u001b[90m): \u001b[39m0.00% … 93.50%\n",
       " Time  \u001b[90m(\u001b[39m\u001b[34m\u001b[1mmedian\u001b[22m\u001b[39m\u001b[90m):     \u001b[39m\u001b[34m\u001b[1m1.290 μs              \u001b[22m\u001b[39m\u001b[90m┊\u001b[39m GC \u001b[90m(\u001b[39mmedian\u001b[90m):    \u001b[39m0.00%\n",
       " Time  \u001b[90m(\u001b[39m\u001b[32m\u001b[1mmean\u001b[22m\u001b[39m ± \u001b[32mσ\u001b[39m\u001b[90m):   \u001b[39m\u001b[32m\u001b[1m1.438 μs\u001b[22m\u001b[39m ± \u001b[32m 1.121 μs\u001b[39m  \u001b[90m┊\u001b[39m GC \u001b[90m(\u001b[39mmean ± σ\u001b[90m):  \u001b[39m1.91% ±  2.47%\n",
       "\n",
       "  \u001b[39m \u001b[39m▆\u001b[39m█\u001b[34m▇\u001b[39m\u001b[39m▆\u001b[39m▄\u001b[39m▂\u001b[39m \u001b[39m \u001b[39m▁\u001b[32m▂\u001b[39m\u001b[39m▂\u001b[39m▁\u001b[39m \u001b[39m \u001b[39m \u001b[39m \u001b[39m \u001b[39m \u001b[39m \u001b[39m \u001b[39m \u001b[39m \u001b[39m \u001b[39m \u001b[39m \u001b[39m \u001b[39m \u001b[39m \u001b[39m \u001b[39m \u001b[39m \u001b[39m \u001b[39m \u001b[39m \u001b[39m \u001b[39m \u001b[39m▂\u001b[39m▃\u001b[39m▂\u001b[39m▃\u001b[39m▂\u001b[39m▂\u001b[39m▂\u001b[39m▁\u001b[39m▁\u001b[39m▁\u001b[39m▁\u001b[39m \u001b[39m \u001b[39m \u001b[39m \u001b[39m \u001b[39m \u001b[39m \u001b[39m \u001b[39m \u001b[39m \u001b[39m \u001b[39m▂\n",
       "  \u001b[39m▆\u001b[39m█\u001b[39m█\u001b[34m█\u001b[39m\u001b[39m█\u001b[39m█\u001b[39m█\u001b[39m█\u001b[39m█\u001b[39m█\u001b[32m█\u001b[39m\u001b[39m█\u001b[39m█\u001b[39m█\u001b[39m▇\u001b[39m▆\u001b[39m▅\u001b[39m▅\u001b[39m▄\u001b[39m▃\u001b[39m▃\u001b[39m▃\u001b[39m▃\u001b[39m▅\u001b[39m▁\u001b[39m▃\u001b[39m▃\u001b[39m▁\u001b[39m▁\u001b[39m▃\u001b[39m▁\u001b[39m▃\u001b[39m▁\u001b[39m▁\u001b[39m▄\u001b[39m▃\u001b[39m█\u001b[39m█\u001b[39m█\u001b[39m█\u001b[39m█\u001b[39m█\u001b[39m█\u001b[39m█\u001b[39m█\u001b[39m█\u001b[39m█\u001b[39m█\u001b[39m█\u001b[39m▇\u001b[39m▇\u001b[39m▆\u001b[39m▅\u001b[39m▆\u001b[39m▅\u001b[39m▅\u001b[39m▅\u001b[39m▅\u001b[39m \u001b[39m█\n",
       "  1.22 μs\u001b[90m      \u001b[39m\u001b[90mHistogram: \u001b[39m\u001b[90m\u001b[1mlog(\u001b[22m\u001b[39m\u001b[90mfrequency\u001b[39m\u001b[90m\u001b[1m)\u001b[22m\u001b[39m\u001b[90m by time\u001b[39m     2.43 μs \u001b[0m\u001b[1m<\u001b[22m\n",
       "\n",
       " Memory estimate\u001b[90m: \u001b[39m\u001b[33m3.38 KiB\u001b[39m, allocs estimate\u001b[90m: \u001b[39m\u001b[33m27\u001b[39m."
      ]
     },
     "execution_count": 9,
     "metadata": {},
     "output_type": "execute_result"
    }
   ],
   "source": [
    "@benchmark evaluate2(board)"
   ]
  },
  {
   "cell_type": "markdown",
   "id": "404a2baa",
   "metadata": {},
   "source": [
    "# 方法3:方法2の改良版。配列の生成回数を減らす"
   ]
  },
  {
   "cell_type": "markdown",
   "id": "a8549b1a",
   "metadata": {},
   "source": [
    "方法2の改良版です。イメージとしては方法2で9回生成していた配列を1つに繋げたというものです。結構高速になりますね。可読性が怪しくなるのが欠点か。"
   ]
  },
  {
   "cell_type": "code",
   "execution_count": 10,
   "id": "bbd5e4f4",
   "metadata": {},
   "outputs": [
    {
     "data": {
      "text/plain": [
       "evaluate3 (generic function with 1 method)"
      ]
     },
     "execution_count": 10,
     "metadata": {},
     "output_type": "execute_result"
    }
   ],
   "source": [
    "function evaluate3(board)\n",
    "    tmp_h = zeros(Int8, 9*9)\n",
    "    tmp_v = zeros(Int8, 9*9)\n",
    "    tmp_box = zeros(Int8, 9*9)\n",
    "    for i in 1:9\n",
    "        for j in 1:9\n",
    "            tmp_h[board[i,j] + (i-1)*9] = 1\n",
    "            tmp_v[board[j,i] + (i-1)*9] = 1\n",
    "            tmp_box[board[((i-1)%3)*3 + (j-1)%3 + 1, div(i-1, 3)*3 + div(j-1, 3) + 1] + (i-1)*9] = 1\n",
    "        end\n",
    "    end\n",
    "    return (9*9*3 - sum(tmp_h) - sum(tmp_v) - sum(tmp_box))\n",
    "end"
   ]
  },
  {
   "cell_type": "code",
   "execution_count": 11,
   "id": "306b192d",
   "metadata": {},
   "outputs": [
    {
     "data": {
      "text/plain": [
       "79"
      ]
     },
     "execution_count": 11,
     "metadata": {},
     "output_type": "execute_result"
    }
   ],
   "source": [
    "evaluate3(board)"
   ]
  },
  {
   "cell_type": "code",
   "execution_count": 12,
   "id": "4252a4cf",
   "metadata": {},
   "outputs": [
    {
     "data": {
      "text/plain": [
       "BenchmarkTools.Trial: 10000 samples with 196 evaluations.\n",
       " Range \u001b[90m(\u001b[39m\u001b[36m\u001b[1mmin\u001b[22m\u001b[39m … \u001b[35mmax\u001b[39m\u001b[90m):  \u001b[39m\u001b[36m\u001b[1m467.857 ns\u001b[22m\u001b[39m … \u001b[35m 2.797 μs\u001b[39m  \u001b[90m┊\u001b[39m GC \u001b[90m(\u001b[39mmin … max\u001b[90m): \u001b[39m0.00% … 71.20%\n",
       " Time  \u001b[90m(\u001b[39m\u001b[34m\u001b[1mmedian\u001b[22m\u001b[39m\u001b[90m):     \u001b[39m\u001b[34m\u001b[1m485.714 ns              \u001b[22m\u001b[39m\u001b[90m┊\u001b[39m GC \u001b[90m(\u001b[39mmedian\u001b[90m):    \u001b[39m0.00%\n",
       " Time  \u001b[90m(\u001b[39m\u001b[32m\u001b[1mmean\u001b[22m\u001b[39m ± \u001b[32mσ\u001b[39m\u001b[90m):   \u001b[39m\u001b[32m\u001b[1m498.498 ns\u001b[22m\u001b[39m ± \u001b[32m94.595 ns\u001b[39m  \u001b[90m┊\u001b[39m GC \u001b[90m(\u001b[39mmean ± σ\u001b[90m):  \u001b[39m0.69% ±  3.25%\n",
       "\n",
       "  \u001b[39m▅\u001b[39m▇\u001b[39m▆\u001b[39m█\u001b[34m█\u001b[39m\u001b[39m▇\u001b[39m▆\u001b[32m▃\u001b[39m\u001b[39m▁\u001b[39m \u001b[39m \u001b[39m \u001b[39m \u001b[39m \u001b[39m \u001b[39m \u001b[39m \u001b[39m \u001b[39m \u001b[39m \u001b[39m \u001b[39m \u001b[39m \u001b[39m \u001b[39m \u001b[39m \u001b[39m▂\u001b[39m▃\u001b[39m▂\u001b[39m▂\u001b[39m▂\u001b[39m \u001b[39m \u001b[39m \u001b[39m \u001b[39m \u001b[39m \u001b[39m \u001b[39m \u001b[39m \u001b[39m \u001b[39m \u001b[39m \u001b[39m \u001b[39m \u001b[39m \u001b[39m \u001b[39m \u001b[39m \u001b[39m \u001b[39m \u001b[39m \u001b[39m \u001b[39m \u001b[39m \u001b[39m \u001b[39m \u001b[39m \u001b[39m \u001b[39m \u001b[39m \u001b[39m▂\n",
       "  \u001b[39m█\u001b[39m█\u001b[39m█\u001b[39m█\u001b[34m█\u001b[39m\u001b[39m█\u001b[39m█\u001b[32m█\u001b[39m\u001b[39m█\u001b[39m█\u001b[39m▇\u001b[39m▆\u001b[39m▆\u001b[39m▅\u001b[39m▆\u001b[39m▆\u001b[39m▄\u001b[39m▇\u001b[39m▇\u001b[39m▅\u001b[39m▆\u001b[39m▇\u001b[39m▆\u001b[39m▆\u001b[39m▅\u001b[39m█\u001b[39m█\u001b[39m█\u001b[39m█\u001b[39m█\u001b[39m█\u001b[39m█\u001b[39m█\u001b[39m▆\u001b[39m▄\u001b[39m▅\u001b[39m▄\u001b[39m▄\u001b[39m▄\u001b[39m▄\u001b[39m▅\u001b[39m▅\u001b[39m▅\u001b[39m▅\u001b[39m▆\u001b[39m▅\u001b[39m▅\u001b[39m▄\u001b[39m▅\u001b[39m▁\u001b[39m▄\u001b[39m▅\u001b[39m▄\u001b[39m▃\u001b[39m▄\u001b[39m▄\u001b[39m▄\u001b[39m▄\u001b[39m▄\u001b[39m▄\u001b[39m \u001b[39m█\n",
       "  468 ns\u001b[90m        \u001b[39m\u001b[90mHistogram: \u001b[39m\u001b[90m\u001b[1mlog(\u001b[22m\u001b[39m\u001b[90mfrequency\u001b[39m\u001b[90m\u001b[1m)\u001b[22m\u001b[39m\u001b[90m by time\u001b[39m       722 ns \u001b[0m\u001b[1m<\u001b[22m\n",
       "\n",
       " Memory estimate\u001b[90m: \u001b[39m\u001b[33m432 bytes\u001b[39m, allocs estimate\u001b[90m: \u001b[39m\u001b[33m3\u001b[39m."
      ]
     },
     "execution_count": 12,
     "metadata": {},
     "output_type": "execute_result"
    }
   ],
   "source": [
    "@benchmark evaluate3(board)"
   ]
  },
  {
   "cell_type": "markdown",
   "id": "452b70ed",
   "metadata": {},
   "source": [
    "# 方法4:方法3からさらに配列をまとめる"
   ]
  },
  {
   "cell_type": "markdown",
   "id": "ab6e1129",
   "metadata": {},
   "source": [
    "方法3では3つの配列を使っていましたが、それらを1つに繋げました。ここまでくると可読性は壊滅的ですね。"
   ]
  },
  {
   "cell_type": "code",
   "execution_count": 13,
   "id": "58fcbacf",
   "metadata": {},
   "outputs": [
    {
     "data": {
      "text/plain": [
       "evaluate4 (generic function with 1 method)"
      ]
     },
     "execution_count": 13,
     "metadata": {},
     "output_type": "execute_result"
    }
   ],
   "source": [
    "function evaluate4(board)\n",
    "    tmp = zeros(Int8, 81*3)\n",
    "    for i in 1:9\n",
    "        for j in 1:9\n",
    "            tmp[board[i,j] + (i-1)*9] = 1\n",
    "            tmp[board[j,i] + (i-1)*9 + 81] = 1\n",
    "            tmp[board[((i-1)%3)*3 + (j-1)%3 + 1, div(i-1, 3)*3 + div(j-1, 3) + 1] + (i-1)*9 + 81*2] = 1\n",
    "        end\n",
    "    end\n",
    "    return (9*9*3 - sum(tmp))\n",
    "end"
   ]
  },
  {
   "cell_type": "code",
   "execution_count": 14,
   "id": "8294bfaa",
   "metadata": {},
   "outputs": [
    {
     "data": {
      "text/plain": [
       "79"
      ]
     },
     "execution_count": 14,
     "metadata": {},
     "output_type": "execute_result"
    }
   ],
   "source": [
    "evaluate4(board)"
   ]
  },
  {
   "cell_type": "code",
   "execution_count": 15,
   "id": "23b70ca6",
   "metadata": {},
   "outputs": [
    {
     "data": {
      "text/plain": [
       "BenchmarkTools.Trial: 10000 samples with 208 evaluations.\n",
       " Range \u001b[90m(\u001b[39m\u001b[36m\u001b[1mmin\u001b[22m\u001b[39m … \u001b[35mmax\u001b[39m\u001b[90m):  \u001b[39m\u001b[36m\u001b[1m369.712 ns\u001b[22m\u001b[39m … \u001b[35m 2.511 μs\u001b[39m  \u001b[90m┊\u001b[39m GC \u001b[90m(\u001b[39mmin … max\u001b[90m): \u001b[39m0.00% … 80.95%\n",
       " Time  \u001b[90m(\u001b[39m\u001b[34m\u001b[1mmedian\u001b[22m\u001b[39m\u001b[90m):     \u001b[39m\u001b[34m\u001b[1m383.654 ns              \u001b[22m\u001b[39m\u001b[90m┊\u001b[39m GC \u001b[90m(\u001b[39mmedian\u001b[90m):    \u001b[39m0.00%\n",
       " Time  \u001b[90m(\u001b[39m\u001b[32m\u001b[1mmean\u001b[22m\u001b[39m ± \u001b[32mσ\u001b[39m\u001b[90m):   \u001b[39m\u001b[32m\u001b[1m396.258 ns\u001b[22m\u001b[39m ± \u001b[32m82.138 ns\u001b[39m  \u001b[90m┊\u001b[39m GC \u001b[90m(\u001b[39mmean ± σ\u001b[90m):  \u001b[39m0.64% ±  2.90%\n",
       "\n",
       "  \u001b[39m▃\u001b[39m▅\u001b[39m▂\u001b[39m▇\u001b[39m█\u001b[34m▅\u001b[39m\u001b[39m▆\u001b[39m▅\u001b[39m▃\u001b[32m▂\u001b[39m\u001b[39m \u001b[39m \u001b[39m \u001b[39m \u001b[39m \u001b[39m \u001b[39m \u001b[39m \u001b[39m \u001b[39m \u001b[39m \u001b[39m \u001b[39m \u001b[39m \u001b[39m \u001b[39m▁\u001b[39m▃\u001b[39m▂\u001b[39m▁\u001b[39m▁\u001b[39m▁\u001b[39m \u001b[39m \u001b[39m \u001b[39m \u001b[39m \u001b[39m \u001b[39m \u001b[39m \u001b[39m \u001b[39m \u001b[39m \u001b[39m \u001b[39m \u001b[39m \u001b[39m \u001b[39m \u001b[39m \u001b[39m \u001b[39m \u001b[39m \u001b[39m \u001b[39m \u001b[39m \u001b[39m \u001b[39m \u001b[39m \u001b[39m \u001b[39m \u001b[39m \u001b[39m \u001b[39m▂\n",
       "  \u001b[39m█\u001b[39m█\u001b[39m█\u001b[39m█\u001b[39m█\u001b[34m█\u001b[39m\u001b[39m█\u001b[39m█\u001b[39m█\u001b[32m█\u001b[39m\u001b[39m█\u001b[39m▇\u001b[39m▇\u001b[39m▆\u001b[39m▅\u001b[39m▄\u001b[39m▆\u001b[39m▅\u001b[39m▇\u001b[39m▆\u001b[39m▆\u001b[39m▆\u001b[39m▅\u001b[39m▇\u001b[39m█\u001b[39m█\u001b[39m█\u001b[39m█\u001b[39m█\u001b[39m█\u001b[39m█\u001b[39m█\u001b[39m█\u001b[39m▇\u001b[39m█\u001b[39m█\u001b[39m▇\u001b[39m▇\u001b[39m▅\u001b[39m▆\u001b[39m▆\u001b[39m▆\u001b[39m▄\u001b[39m▅\u001b[39m▅\u001b[39m▄\u001b[39m▅\u001b[39m▄\u001b[39m▃\u001b[39m▅\u001b[39m▆\u001b[39m▃\u001b[39m▁\u001b[39m▅\u001b[39m▄\u001b[39m▅\u001b[39m▅\u001b[39m▄\u001b[39m▄\u001b[39m▅\u001b[39m \u001b[39m█\n",
       "  370 ns\u001b[90m        \u001b[39m\u001b[90mHistogram: \u001b[39m\u001b[90m\u001b[1mlog(\u001b[22m\u001b[39m\u001b[90mfrequency\u001b[39m\u001b[90m\u001b[1m)\u001b[22m\u001b[39m\u001b[90m by time\u001b[39m       549 ns \u001b[0m\u001b[1m<\u001b[22m\n",
       "\n",
       " Memory estimate\u001b[90m: \u001b[39m\u001b[33m304 bytes\u001b[39m, allocs estimate\u001b[90m: \u001b[39m\u001b[33m1\u001b[39m."
      ]
     },
     "execution_count": 15,
     "metadata": {},
     "output_type": "execute_result"
    }
   ],
   "source": [
    "@benchmark evaluate4(board)"
   ]
  },
  {
   "cell_type": "markdown",
   "id": "1c0f7eeb",
   "metadata": {},
   "source": [
    "# まとめ"
   ]
  },
  {
   "cell_type": "markdown",
   "id": "5c30bc4d",
   "metadata": {},
   "source": [
    "今回の実験で分かったこと\n",
    "1. `Set()`は時間がかかり、今回のように限られた範囲の値を扱うなら配列のほうが便利かも\n",
    "2. 0 or 1　のように取りうる値の範囲が限られている場合、Int64よりInt8などを使う方が速い\n",
    "3. 配列の生成回数は少なくしよう。（`sum()`に時間がかかっているだけかも？）　　\n",
    "\n",
    "\n",
    "|方法 |ベンチマーク結果|備考|\n",
    "|:---:|:------------:  |:---|\n",
    "|方法1|6.633 μs ±  11.618 μs|Set()を使う|\n",
    "|方法2|1.438 μs ±  1.121 μs|登場した数字の種類を配列で管理する|\n",
    "|方法3|498.498 ns ± 94.595 ns|方法2の改良版。配列の生成回数を減らす|\n",
    "|方法4|396.258 ns ± 82.138 ns|方法3からさらに配列をまとめる|"
   ]
  }
 ],
 "metadata": {
  "kernelspec": {
   "display_name": "Julia 1.9.2",
   "language": "julia",
   "name": "julia-1.9"
  },
  "language_info": {
   "file_extension": ".jl",
   "mimetype": "application/julia",
   "name": "julia",
   "version": "1.9.2"
  }
 },
 "nbformat": 4,
 "nbformat_minor": 5
}
